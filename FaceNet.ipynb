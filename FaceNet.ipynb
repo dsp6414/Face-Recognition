{
 "cells": [
  {
   "cell_type": "code",
   "execution_count": 13,
   "metadata": {
    "collapsed": true
   },
   "outputs": [],
   "source": [
    "import torch\n",
    "import torch.nn as nn\n",
    "import torch.nn.functional as F\n",
    "from torch.autograd import Variable\n",
    "from torch.autograd import Function\n",
    "import numpy as np\n",
    "from torchvision.models import resnet18"
   ]
  },
  {
   "cell_type": "code",
   "execution_count": 14,
   "metadata": {},
   "outputs": [],
   "source": [
    "def pairwise_distance(x1, x2):\n",
    "    diff = torch.abs(x1 - x2)\n",
    "    return torch.pow(diff, 2).sum(dim=1)"
   ]
  },
  {
   "cell_type": "code",
   "execution_count": 16,
   "metadata": {},
   "outputs": [],
   "source": [
    "class TripletLoss(Function):\n",
    "    def __init__(self, margin):\n",
    "        super(TripletLoss, self).__init__()\n",
    "        self.margin = margin\n",
    "\n",
    "    def forward(self, anchor, positive, negative):\n",
    "            positive_dist = pairwise_distance(anchor, positive)\n",
    "            negative_dist = pairwise_distance(anchor, negative)\n",
    "            loss = positive_dist - negative_dist + self.margin\n",
    "            relu = nn.ReLU()\n",
    "            loss_final = relu(loss).mean()\n",
    "            return loss_final\n",
    "\n",
    "\n",
    "def triplet_loss(anchor, positive, negative, margin=0.2):\n",
    "    t_loss = TripletLoss(margin)\n",
    "    loss = t_loss(anchor, positive, negative)\n",
    "    return loss"
   ]
  },
  {
   "cell_type": "code",
   "execution_count": 17,
   "metadata": {},
   "outputs": [],
   "source": [
    "class FaceNet(nn.Module):\n",
    "    def __init__(self, embedding_dimensions=64):\n",
    "        self.embedding_dimensions = embedding_dimensions\n",
    "        self.model = resnet18(pretrained = True)\n",
    "        resnet_fc_in = self.model.fc.in_features\n",
    "        self.model.fc = nn.Linear(resnet_fc_in, embedding_dimensions)\n",
    "\n",
    "        #Initialize weights\n",
    "        self.model.fc.weight.data.normal_(0.0, 0.02)\n",
    "        self.model.fc.bias.data.fill_(0)\n",
    "\n",
    "        self.minibatch_size = 10\n",
    "        self.lr = 1e-4\n",
    "        self.loss_fn = triplet_loss\n",
    "        optimizer = torch.optim.Adam(self.model.parameters(), lr = self.lr)\n",
    "\n",
    "    def forward(self, input_images):\n",
    "        output = self.model(input_images)\n",
    "        return output\n",
    "\n",
    "    def train(self):\n",
    "        total_epochs = 50000\n",
    "        last_saved_epoch = 0\n",
    "        for epoch in range(last_saved_epoch, num_epochs):\n",
    "            self.model.train()\n",
    "            pass\n",
    "    "
   ]
  },
  {
   "cell_type": "code",
   "execution_count": null,
   "metadata": {},
   "outputs": [],
   "source": []
  }
 ],
 "metadata": {
  "kernelspec": {
   "display_name": "Python 2",
   "language": "python",
   "name": "python2"
  },
  "language_info": {
   "codemirror_mode": {
    "name": "ipython",
    "version": 2
   },
   "file_extension": ".py",
   "mimetype": "text/x-python",
   "name": "python",
   "nbconvert_exporter": "python",
   "pygments_lexer": "ipython2",
   "version": "2.7.6"
  }
 },
 "nbformat": 4,
 "nbformat_minor": 0
}
